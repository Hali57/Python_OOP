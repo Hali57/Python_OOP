{
  "nbformat": 4,
  "nbformat_minor": 0,
  "metadata": {
    "colab": {
      "provenance": [],
      "authorship_tag": "ABX9TyNH64qIZc14uyybbdG8LN3X",
      "include_colab_link": true
    },
    "kernelspec": {
      "name": "python3",
      "display_name": "Python 3"
    },
    "language_info": {
      "name": "python"
    }
  },
  "cells": [
    {
      "cell_type": "markdown",
      "metadata": {
        "id": "view-in-github",
        "colab_type": "text"
      },
      "source": [
        "<a href=\"https://colab.research.google.com/github/Hali57/Python_OOP/blob/main/OOP.ipynb\" target=\"_parent\"><img src=\"https://colab.research.google.com/assets/colab-badge.svg\" alt=\"Open In Colab\"/></a>"
      ]
    },
    {
      "cell_type": "markdown",
      "source": [
        "### OOP IN PYTHON"
      ],
      "metadata": {
        "id": "CbbMOfPlrr9m"
      }
    },
    {
      "cell_type": "code",
      "execution_count": 10,
      "metadata": {
        "id": "TSpUwypziAka",
        "colab": {
          "base_uri": "https://localhost:8080/"
        },
        "outputId": "af9512dd-7d31-48ea-fe0d-a9f867866208"
      },
      "outputs": [
        {
          "output_type": "stream",
          "name": "stdout",
          "text": [
            "Hello my name is Halifax, a Male aged 26 and I am glad to meet you.  \n"
          ]
        }
      ],
      "source": [
        "#create a class called Person that has name, age and gender as its attributes.\n",
        "#create a method that inntroduces the person using the attributes listed above\n",
        "\n",
        "class Person:\n",
        "  def __init__(self, name, age, gender):# constructor\n",
        "\n",
        "    self.name =  name\n",
        "    self.age =  age\n",
        "    self.gender = gender\n",
        "\n",
        "#the class method\n",
        "  def introduce(self):\n",
        "      print(f\"Hello my name is {self.name}, a {self.gender} aged {self.age}  and I am glad to meet you.  \")\n",
        "\n",
        "\n",
        "\n",
        "person= Person(\"Halifax\", 26 , \"Male\")\n",
        "\n",
        "person.introduce()\n"
      ]
    }
  ]
}